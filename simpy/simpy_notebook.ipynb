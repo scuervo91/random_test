{
 "cells": [
  {
   "cell_type": "markdown",
   "metadata": {},
   "source": []
  },
  {
   "cell_type": "markdown",
   "metadata": {},
   "source": [
    "Simpy example"
   ]
  },
  {
   "cell_type": "code",
   "execution_count": 1,
   "metadata": {},
   "outputs": [],
   "source": [
    "import pandas as pd\n",
    "import numpy as np\n",
    "import simpy\n",
    "import matplotlib.pyplot as plt\n",
    "import seaborn as sns"
   ]
  },
  {
   "cell_type": "code",
   "execution_count": 2,
   "metadata": {},
   "outputs": [],
   "source": [
    "wells_array = []\n",
    "trucks_array = []\n",
    "tanks_array = []\n"
   ]
  },
  {
   "cell_type": "code",
   "execution_count": 3,
   "metadata": {},
   "outputs": [],
   "source": [
    "class FlowStation:\n",
    "    def __init__(self,env,num_chargers,tanks_capacity,max_level, trucks_num):\n",
    "        self.env = env\n",
    "        self.dispenser = simpy.Resource(env,capacity= num_chargers)\n",
    "        self.tanks = simpy.Container(env,init=0,capacity=tanks_capacity)\n",
    "        self.max_level = max_level\n",
    "        self.monitor_tank = env.process(self.monitor_tank(env,max_level))\n",
    "        self.trucks = simpy.Resource(env,capacity=trucks_num)\n",
    "        self.called = False\n",
    "    def monitor_tank(self, env, max_level):\n",
    "        while True:\n",
    "            print(f'The tank has {self.tanks.level} bbl at {env.now}')\n",
    "            tanks_array.append(pd.DataFrame({'date':[env.now],'level':[self.tanks.level]}))\n",
    "            trucks_to_call = self.tanks.level / 250\n",
    "            trucks_to_call = np.ceil(trucks_to_call).astype(int)\n",
    "            \n",
    "            if self.tanks.level >= 6000 and self.called==False:\n",
    "                print(f'Calling {trucks_to_call} Trucks at {env.now}')\n",
    "                self.called=True\n",
    "                for i in range(trucks_to_call -1):\n",
    "                    env.process(charge_trucks(env,self))\n",
    "            if self.tanks.level <= 1000:\n",
    "                self.called=False\n",
    "            yield env.timeout(2)\n",
    "            \n",
    "trucks = simpy.Resource\n",
    "\n",
    "\n",
    "def charge_trucks(env,flow_station):\n",
    "    with flow_station.trucks.request() as truck_req:\n",
    "        #Trucks delays 2 days to arrive\n",
    "        yield truck_req\n",
    "        yield env.timeout(2)\n",
    "        print(f'Truck has arrived at {env.now}')\n",
    "        with flow_station.dispenser.request() as req:\n",
    "            yield req\n",
    "            print(f'Trucks started to load oil at {env.now}')\n",
    "            yield flow_station.tanks.get(250)\n",
    "            trucks_array.append(pd.DataFrame({'date':[env.now],'volume':[250]}))\n",
    "            yield env.timeout(0.2)\n",
    "            print(f'Trucks ended to load oil at {env.now}')\n",
    "\n",
    "            \n",
    "\n",
    "\n",
    "def well(name,env,flow_station,rate):\n",
    "    while True:\n",
    "        yield env.timeout(1)\n",
    "        if flow_station.tanks.level < flow_station.max_level:\n",
    "            print(f'Well {name} producing at a {rate} bbl/d {env.now}')\n",
    "            yield flow_station.tanks.put(rate)\n",
    "            wells_array.append(pd.DataFrame({'date':[env.now],'rate':[rate],'well':[name]}))\n",
    "        else:\n",
    "            print(f'Well {name} not produced at {env.now}')\n",
    "            wells_array.append(pd.DataFrame({'date':[env.now],'rate':[0],'well':[name]}))\n",
    "            \n",
    "        \n",
    "\n",
    "def well_generator(env,flow_station, wells_num):\n",
    "    rates = np.random.uniform(low=100, high=200, size=wells_num)\n",
    "    for i,r in enumerate(rates):\n",
    "        env.process(well(i,env,flow_station,r))\n",
    "    yield env.timeout(1)\n",
    "        \n"
   ]
  },
  {
   "cell_type": "code",
   "execution_count": 4,
   "metadata": {},
   "outputs": [
    {
     "name": "stdout",
     "output_type": "stream",
     "text": [
      "The tank has 0 bbl at 0\n",
      "Well 0 producing at a 153.2219412080356 bbl/d 1\n",
      "Well 1 producing at a 161.48019368076774 bbl/d 1\n",
      "Well 2 producing at a 105.5874890733938 bbl/d 1\n",
      "Well 3 producing at a 188.85874237185698 bbl/d 1\n",
      "The tank has 609.1483663340541 bbl at 2\n",
      "Well 0 producing at a 153.2219412080356 bbl/d 2\n",
      "Well 1 producing at a 161.48019368076774 bbl/d 2\n",
      "Well 2 producing at a 105.5874890733938 bbl/d 2\n",
      "Well 3 producing at a 188.85874237185698 bbl/d 2\n",
      "Well 0 producing at a 153.2219412080356 bbl/d 3\n",
      "Well 1 producing at a 161.48019368076774 bbl/d 3\n",
      "Well 2 producing at a 105.5874890733938 bbl/d 3\n",
      "Well 3 producing at a 188.85874237185698 bbl/d 3\n",
      "The tank has 1827.4450990021624 bbl at 4\n",
      "Well 0 producing at a 153.2219412080356 bbl/d 4\n",
      "Well 1 producing at a 161.48019368076774 bbl/d 4\n",
      "Well 2 producing at a 105.5874890733938 bbl/d 4\n",
      "Well 3 producing at a 188.85874237185698 bbl/d 4\n",
      "Well 0 producing at a 153.2219412080356 bbl/d 5\n",
      "Well 1 producing at a 161.48019368076774 bbl/d 5\n",
      "Well 2 producing at a 105.5874890733938 bbl/d 5\n",
      "Well 3 producing at a 188.85874237185698 bbl/d 5\n",
      "The tank has 3045.7418316702706 bbl at 6\n",
      "Well 0 producing at a 153.2219412080356 bbl/d 6\n",
      "Well 1 producing at a 161.48019368076774 bbl/d 6\n",
      "Well 2 producing at a 105.5874890733938 bbl/d 6\n",
      "Well 3 producing at a 188.85874237185698 bbl/d 6\n",
      "Well 0 producing at a 153.2219412080356 bbl/d 7\n",
      "Well 1 producing at a 161.48019368076774 bbl/d 7\n",
      "Well 2 producing at a 105.5874890733938 bbl/d 7\n",
      "Well 3 producing at a 188.85874237185698 bbl/d 7\n",
      "The tank has 4264.038564338379 bbl at 8\n",
      "Well 0 producing at a 153.2219412080356 bbl/d 8\n",
      "Well 1 producing at a 161.48019368076774 bbl/d 8\n",
      "Well 2 producing at a 105.5874890733938 bbl/d 8\n",
      "Well 3 producing at a 188.85874237185698 bbl/d 8\n",
      "Well 0 producing at a 153.2219412080356 bbl/d 9\n",
      "Well 1 producing at a 161.48019368076774 bbl/d 9\n",
      "Well 2 producing at a 105.5874890733938 bbl/d 9\n",
      "Well 3 producing at a 188.85874237185698 bbl/d 9\n",
      "The tank has 5482.335297006489 bbl at 10\n",
      "Well 0 producing at a 153.2219412080356 bbl/d 10\n",
      "Well 1 producing at a 161.48019368076774 bbl/d 10\n",
      "Well 2 producing at a 105.5874890733938 bbl/d 10\n",
      "Well 3 producing at a 188.85874237185698 bbl/d 10\n",
      "Well 0 producing at a 153.2219412080356 bbl/d 11\n",
      "Well 1 producing at a 161.48019368076774 bbl/d 11\n",
      "Well 2 producing at a 105.5874890733938 bbl/d 11\n",
      "Well 3 producing at a 188.85874237185698 bbl/d 11\n",
      "The tank has 6700.632029674599 bbl at 12\n",
      "Calling 27 Trucks at 12\n",
      "Well 0 producing at a 153.2219412080356 bbl/d 12\n",
      "Well 1 producing at a 161.48019368076774 bbl/d 12\n",
      "Well 2 producing at a 105.5874890733938 bbl/d 12\n",
      "Well 3 producing at a 188.85874237185698 bbl/d 12\n",
      "Well 0 producing at a 153.2219412080356 bbl/d 13\n",
      "Well 1 producing at a 161.48019368076774 bbl/d 13\n",
      "Well 2 producing at a 105.5874890733938 bbl/d 13\n",
      "Well 3 producing at a 188.85874237185698 bbl/d 13\n",
      "The tank has 7918.928762342709 bbl at 14\n",
      "Truck has arrived at 14\n",
      "Truck has arrived at 14\n",
      "Truck has arrived at 14\n",
      "Truck has arrived at 14\n",
      "Truck has arrived at 14\n",
      "Truck has arrived at 14\n",
      "Truck has arrived at 14\n",
      "Truck has arrived at 14\n",
      "Truck has arrived at 14\n",
      "Truck has arrived at 14\n",
      "Truck has arrived at 14\n",
      "Truck has arrived at 14\n",
      "Truck has arrived at 14\n",
      "Truck has arrived at 14\n",
      "Truck has arrived at 14\n",
      "Truck has arrived at 14\n",
      "Truck has arrived at 14\n",
      "Truck has arrived at 14\n",
      "Truck has arrived at 14\n",
      "Truck has arrived at 14\n",
      "Truck has arrived at 14\n",
      "Truck has arrived at 14\n",
      "Truck has arrived at 14\n",
      "Truck has arrived at 14\n",
      "Truck has arrived at 14\n",
      "Well 0 producing at a 153.2219412080356 bbl/d 14\n",
      "Well 1 producing at a 161.48019368076774 bbl/d 14\n",
      "Well 2 producing at a 105.5874890733938 bbl/d 14\n",
      "Well 3 producing at a 188.85874237185698 bbl/d 14\n",
      "Trucks started to load oil at 14\n",
      "Trucks started to load oil at 14\n",
      "Trucks ended to load oil at 14.2\n",
      "Trucks ended to load oil at 14.2\n",
      "Trucks started to load oil at 14.2\n",
      "Trucks started to load oil at 14.2\n",
      "Trucks ended to load oil at 14.399999999999999\n",
      "Trucks ended to load oil at 14.399999999999999\n",
      "Trucks started to load oil at 14.399999999999999\n",
      "Trucks started to load oil at 14.399999999999999\n",
      "Trucks ended to load oil at 14.599999999999998\n",
      "Trucks ended to load oil at 14.599999999999998\n",
      "Trucks started to load oil at 14.599999999999998\n",
      "Trucks started to load oil at 14.599999999999998\n",
      "Trucks ended to load oil at 14.799999999999997\n",
      "Trucks ended to load oil at 14.799999999999997\n",
      "Trucks started to load oil at 14.799999999999997\n",
      "Trucks started to load oil at 14.799999999999997\n",
      "Trucks ended to load oil at 14.999999999999996\n",
      "Trucks ended to load oil at 14.999999999999996\n",
      "Trucks started to load oil at 14.999999999999996\n",
      "Trucks started to load oil at 14.999999999999996\n",
      "Well 0 producing at a 153.2219412080356 bbl/d 15\n",
      "Well 1 producing at a 161.48019368076774 bbl/d 15\n",
      "Well 2 producing at a 105.5874890733938 bbl/d 15\n",
      "Well 3 producing at a 188.85874237185698 bbl/d 15\n",
      "Trucks ended to load oil at 15.199999999999996\n",
      "Trucks ended to load oil at 15.199999999999996\n",
      "Trucks started to load oil at 15.199999999999996\n",
      "Trucks started to load oil at 15.199999999999996\n",
      "Trucks ended to load oil at 15.399999999999995\n",
      "Trucks ended to load oil at 15.399999999999995\n",
      "Trucks started to load oil at 15.399999999999995\n",
      "Trucks started to load oil at 15.399999999999995\n",
      "Trucks ended to load oil at 15.599999999999994\n",
      "Trucks ended to load oil at 15.599999999999994\n",
      "Trucks started to load oil at 15.599999999999994\n",
      "Trucks started to load oil at 15.599999999999994\n",
      "Trucks ended to load oil at 15.799999999999994\n",
      "Trucks ended to load oil at 15.799999999999994\n",
      "Trucks started to load oil at 15.799999999999994\n",
      "Trucks started to load oil at 15.799999999999994\n",
      "Trucks ended to load oil at 15.999999999999993\n",
      "Trucks ended to load oil at 15.999999999999993\n",
      "Trucks started to load oil at 15.999999999999993\n",
      "Trucks started to load oil at 15.999999999999993\n",
      "The tank has 3637.225495010818 bbl at 16\n",
      "Well 0 producing at a 153.2219412080356 bbl/d 16\n",
      "Well 1 producing at a 161.48019368076774 bbl/d 16\n",
      "Well 2 producing at a 105.5874890733938 bbl/d 16\n",
      "Well 3 producing at a 188.85874237185698 bbl/d 16\n",
      "Trucks ended to load oil at 16.199999999999992\n",
      "Trucks ended to load oil at 16.199999999999992\n",
      "Trucks started to load oil at 16.199999999999992\n",
      "Trucks started to load oil at 16.199999999999992\n",
      "Truck has arrived at 16.2\n",
      "Trucks ended to load oil at 16.39999999999999\n",
      "Trucks ended to load oil at 16.39999999999999\n",
      "Trucks started to load oil at 16.39999999999999\n",
      "Trucks started to load oil at 16.39999999999999\n",
      "Trucks ended to load oil at 16.59999999999999\n",
      "Trucks ended to load oil at 16.59999999999999\n",
      "Well 0 producing at a 153.2219412080356 bbl/d 17\n",
      "Well 1 producing at a 161.48019368076774 bbl/d 17\n",
      "Well 2 producing at a 105.5874890733938 bbl/d 17\n",
      "Well 3 producing at a 188.85874237185698 bbl/d 17\n",
      "The tank has 3855.5222276789264 bbl at 18\n",
      "Well 0 producing at a 153.2219412080356 bbl/d 18\n",
      "Well 1 producing at a 161.48019368076774 bbl/d 18\n",
      "Well 2 producing at a 105.5874890733938 bbl/d 18\n",
      "Well 3 producing at a 188.85874237185698 bbl/d 18\n",
      "Well 0 producing at a 153.2219412080356 bbl/d 19\n",
      "Well 1 producing at a 161.48019368076774 bbl/d 19\n",
      "Well 2 producing at a 105.5874890733938 bbl/d 19\n",
      "Well 3 producing at a 188.85874237185698 bbl/d 19\n",
      "The tank has 5073.818960347036 bbl at 20\n",
      "Well 0 producing at a 153.2219412080356 bbl/d 20\n",
      "Well 1 producing at a 161.48019368076774 bbl/d 20\n",
      "Well 2 producing at a 105.5874890733938 bbl/d 20\n",
      "Well 3 producing at a 188.85874237185698 bbl/d 20\n",
      "Well 0 producing at a 153.2219412080356 bbl/d 21\n",
      "Well 1 producing at a 161.48019368076774 bbl/d 21\n",
      "Well 2 producing at a 105.5874890733938 bbl/d 21\n",
      "Well 3 producing at a 188.85874237185698 bbl/d 21\n",
      "The tank has 6292.1156930151465 bbl at 22\n",
      "Well 0 producing at a 153.2219412080356 bbl/d 22\n",
      "Well 1 producing at a 161.48019368076774 bbl/d 22\n",
      "Well 2 producing at a 105.5874890733938 bbl/d 22\n",
      "Well 3 producing at a 188.85874237185698 bbl/d 22\n",
      "Well 0 producing at a 153.2219412080356 bbl/d 23\n",
      "Well 1 producing at a 161.48019368076774 bbl/d 23\n",
      "Well 2 producing at a 105.5874890733938 bbl/d 23\n",
      "Well 3 producing at a 188.85874237185698 bbl/d 23\n",
      "The tank has 7510.4124256832565 bbl at 24\n",
      "Well 0 producing at a 153.2219412080356 bbl/d 24\n",
      "Well 1 producing at a 161.48019368076774 bbl/d 24\n",
      "Well 2 producing at a 105.5874890733938 bbl/d 24\n",
      "Well 3 producing at a 188.85874237185698 bbl/d 24\n",
      "Well 0 producing at a 153.2219412080356 bbl/d 25\n",
      "Well 1 producing at a 161.48019368076774 bbl/d 25\n",
      "Well 2 producing at a 105.5874890733938 bbl/d 25\n",
      "Well 3 producing at a 188.85874237185698 bbl/d 25\n",
      "The tank has 8728.709158351365 bbl at 26\n",
      "Well 0 producing at a 153.2219412080356 bbl/d 26\n",
      "Well 1 producing at a 161.48019368076774 bbl/d 26\n",
      "Well 2 producing at a 105.5874890733938 bbl/d 26\n",
      "Well 3 producing at a 188.85874237185698 bbl/d 26\n",
      "Well 0 producing at a 153.2219412080356 bbl/d 27\n",
      "Well 1 producing at a 161.48019368076774 bbl/d 27\n",
      "Well 2 producing at a 105.5874890733938 bbl/d 27\n",
      "Well 3 producing at a 188.85874237185698 bbl/d 27\n",
      "The tank has 9947.005891019471 bbl at 28\n",
      "Well 0 producing at a 153.2219412080356 bbl/d 28\n",
      "Well 1 producing at a 161.48019368076774 bbl/d 28\n",
      "Well 2 producing at a 105.5874890733938 bbl/d 28\n",
      "Well 3 producing at a 188.85874237185698 bbl/d 28\n",
      "The tank has 9947.005891019471 bbl at 30\n",
      "The tank has 9947.005891019471 bbl at 32\n",
      "The tank has 9947.005891019471 bbl at 34\n",
      "The tank has 9947.005891019471 bbl at 36\n",
      "The tank has 9947.005891019471 bbl at 38\n",
      "The tank has 9947.005891019471 bbl at 40\n",
      "The tank has 9947.005891019471 bbl at 42\n",
      "The tank has 9947.005891019471 bbl at 44\n",
      "The tank has 9947.005891019471 bbl at 46\n",
      "The tank has 9947.005891019471 bbl at 48\n",
      "The tank has 9947.005891019471 bbl at 50\n",
      "The tank has 9947.005891019471 bbl at 52\n",
      "The tank has 9947.005891019471 bbl at 54\n",
      "The tank has 9947.005891019471 bbl at 56\n",
      "The tank has 9947.005891019471 bbl at 58\n",
      "The tank has 9947.005891019471 bbl at 60\n",
      "The tank has 9947.005891019471 bbl at 62\n",
      "The tank has 9947.005891019471 bbl at 64\n",
      "The tank has 9947.005891019471 bbl at 66\n",
      "The tank has 9947.005891019471 bbl at 68\n",
      "The tank has 9947.005891019471 bbl at 70\n",
      "The tank has 9947.005891019471 bbl at 72\n",
      "The tank has 9947.005891019471 bbl at 74\n",
      "The tank has 9947.005891019471 bbl at 76\n",
      "The tank has 9947.005891019471 bbl at 78\n",
      "The tank has 9947.005891019471 bbl at 80\n",
      "The tank has 9947.005891019471 bbl at 82\n",
      "The tank has 9947.005891019471 bbl at 84\n",
      "The tank has 9947.005891019471 bbl at 86\n",
      "The tank has 9947.005891019471 bbl at 88\n"
     ]
    }
   ],
   "source": [
    "env = simpy.Environment()\n",
    "flow_station = FlowStation(env,2,10000,10000,25)\n",
    "well_gen = env.process(well_generator(env,flow_station,4))\n",
    "env.run(until=90)\n",
    "wells_df = pd.concat(wells_array, axis=0)\n",
    "tanks_df = pd.concat(tanks_array, axis=0)\n",
    "trucks_df = pd.concat(trucks_array, axis=0)"
   ]
  },
  {
   "cell_type": "code",
   "execution_count": 5,
   "metadata": {},
   "outputs": [
    {
     "data": {
      "text/plain": [
       "<AxesSubplot:xlabel='date', ylabel='rate'>"
      ]
     },
     "execution_count": 5,
     "metadata": {},
     "output_type": "execute_result"
    },
    {
     "data": {
      "image/png": "[encoded data removed]",
      "text/plain": [
       "<Figure size 432x288 with 1 Axes>"
      ]
     },
     "metadata": {
      "needs_background": "light"
     },
     "output_type": "display_data"
    }
   ],
   "source": [
    "sns.lineplot(data=wells_df, x='date',y='rate',hue='well')"
   ]
  },
  {
   "cell_type": "code",
   "execution_count": 6,
   "metadata": {},
   "outputs": [
    {
     "data": {
      "text/plain": [
       "<AxesSubplot:xlabel='date', ylabel='level'>"
      ]
     },
     "execution_count": 6,
     "metadata": {},
     "output_type": "execute_result"
    },
    {
     "data": {
      "image/png": "[encoded data removed]",
      "text/plain": [
       "<Figure size 432x288 with 1 Axes>"
      ]
     },
     "metadata": {
      "needs_background": "light"
     },
     "output_type": "display_data"
    }
   ],
   "source": [
    "sns.lineplot(data=tanks_df, x='date',y='level')"
   ]
  },
  {
   "cell_type": "code",
   "execution_count": 7,
   "metadata": {},
   "outputs": [
    {
     "data": {
      "text/plain": [
       "<AxesSubplot:xlabel='date', ylabel='volume'>"
      ]
     },
     "execution_count": 7,
     "metadata": {},
     "output_type": "execute_result"
    },
    {
     "data": {
      "image/png": "[encoded data removed]",
      "text/plain": [
       "<Figure size 432x288 with 1 Axes>"
      ]
     },
     "metadata": {
      "needs_background": "light"
     },
     "output_type": "display_data"
    }
   ],
   "source": [
    "sns.scatterplot(data=trucks_df, x='date',y='volume')"
   ]
  },
  {
   "cell_type": "code",
   "execution_count": 8,
   "metadata": {},
   "outputs": [
    {
     "data": {
      "text/plain": [
       "date      26\n",
       "volume    26\n",
       "dtype: int64"
      ]
     },
     "execution_count": 8,
     "metadata": {},
     "output_type": "execute_result"
    }
   ],
   "source": [
    "trucks_df.count()"
   ]
  },
  {
   "cell_type": "code",
   "execution_count": null,
   "metadata": {},
   "outputs": [],
   "source": []
  }
 ],
 "metadata": {
  "kernelspec": {
   "display_name": "Python 3",
   "language": "python",
   "name": "python3"
  },
  "language_info": {
   "codemirror_mode": {
    "name": "ipython",
    "version": 3
   },
   "file_extension": ".py",
   "mimetype": "text/x-python",
   "name": "python",
   "nbconvert_exporter": "python",
   "pygments_lexer": "ipython3",
   "version": "3.8.6"
  }
 },
 "nbformat": 4,
 "nbformat_minor": 4
}
